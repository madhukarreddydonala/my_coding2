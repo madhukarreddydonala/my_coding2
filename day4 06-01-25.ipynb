{
 "cells": [
  {
   "cell_type": "code",
   "execution_count": 1,
   "id": "42ab1b84",
   "metadata": {},
   "outputs": [
    {
     "name": "stdout",
     "output_type": "stream",
     "text": [
      "[1, 2, 3, 4, 6, 7, 8]\n"
     ]
    }
   ],
   "source": [
    "g=[1,2,3,4,5,6,7,8]\n",
    "del g[4]\n",
    "print(g)"
   ]
  },
  {
   "cell_type": "code",
   "execution_count": 2,
   "id": "fa623c3d",
   "metadata": {},
   "outputs": [
    {
     "name": "stdout",
     "output_type": "stream",
     "text": [
      "[1, 2, 4, 6, 7, 8]\n"
     ]
    }
   ],
   "source": [
    "g.remove(3)\n",
    "print(g)"
   ]
  },
  {
   "cell_type": "code",
   "execution_count": 4,
   "id": "8ff65328",
   "metadata": {},
   "outputs": [
    {
     "name": "stdout",
     "output_type": "stream",
     "text": [
      "<zip object at 0x000001C3031036C0>\n"
     ]
    }
   ],
   "source": [
    "ki=[1,2,3,4]\n",
    "ki1=[3,4,4,5]\n",
    "l1=zip(ki1)\n",
    "print(l1)"
   ]
  },
  {
   "cell_type": "code",
   "execution_count": 5,
   "id": "e7967026",
   "metadata": {},
   "outputs": [
    {
     "name": "stdout",
     "output_type": "stream",
     "text": [
      "<zip object at 0x000001C303102100>\n"
     ]
    }
   ],
   "source": [
    "p=zip(ki)\n",
    "print(p)"
   ]
  },
  {
   "cell_type": "code",
   "execution_count": 6,
   "id": "8ab2a2ab",
   "metadata": {},
   "outputs": [
    {
     "name": "stdout",
     "output_type": "stream",
     "text": [
      "<zip object at 0x000001C3030FF6C0>\n"
     ]
    }
   ],
   "source": [
    "y=zip(ki1)\n",
    "print(y)"
   ]
  },
  {
   "cell_type": "code",
   "execution_count": 7,
   "id": "5ae3623c",
   "metadata": {},
   "outputs": [
    {
     "name": "stdout",
     "output_type": "stream",
     "text": [
      "<enumerate object at 0x000001C30313B1C0>\n"
     ]
    }
   ],
   "source": [
    "k=['kill','hi','now','get',3,5,6,7]\n",
    "print(enumerate(k))"
   ]
  },
  {
   "cell_type": "code",
   "execution_count": 10,
   "id": "e4605283",
   "metadata": {},
   "outputs": [
    {
     "data": {
      "text/plain": [
       "[(0, 'kill'),\n",
       " (1, 'hi'),\n",
       " (2, 'now'),\n",
       " (3, 'get'),\n",
       " (4, 3),\n",
       " (5, 5),\n",
       " (6, 6),\n",
       " (7, 7)]"
      ]
     },
     "execution_count": 10,
     "metadata": {},
     "output_type": "execute_result"
    }
   ],
   "source": [
    "list(enumerate(k))"
   ]
  },
  {
   "cell_type": "code",
   "execution_count": 11,
   "id": "40f2605d",
   "metadata": {},
   "outputs": [
    {
     "name": "stdout",
     "output_type": "stream",
     "text": [
      "('4', 5, 6, 2, 5, 7, 8, 9)\n"
     ]
    }
   ],
   "source": [
    "p=('4',5,6,2,5,7,8,9)\n",
    "print(p)"
   ]
  },
  {
   "cell_type": "code",
   "execution_count": 12,
   "id": "474d102b",
   "metadata": {},
   "outputs": [
    {
     "data": {
      "text/plain": [
       "6"
      ]
     },
     "execution_count": 12,
     "metadata": {},
     "output_type": "execute_result"
    }
   ],
   "source": [
    "p[2]"
   ]
  },
  {
   "cell_type": "code",
   "execution_count": 13,
   "id": "48be09c2",
   "metadata": {},
   "outputs": [
    {
     "name": "stdout",
     "output_type": "stream",
     "text": [
      "('4', 5, 6, 2, 5, 7, 8, 9, '4', 5, 6, 2, 5, 7, 8, 9)\n"
     ]
    }
   ],
   "source": [
    "print(p*2)"
   ]
  },
  {
   "cell_type": "code",
   "execution_count": null,
   "id": "c4e8d337",
   "metadata": {},
   "outputs": [],
   "source": []
  }
 ],
 "metadata": {
  "kernelspec": {
   "display_name": "Python 3 (ipykernel)",
   "language": "python",
   "name": "python3"
  },
  "language_info": {
   "codemirror_mode": {
    "name": "ipython",
    "version": 3
   },
   "file_extension": ".py",
   "mimetype": "text/x-python",
   "name": "python",
   "nbconvert_exporter": "python",
   "pygments_lexer": "ipython3",
   "version": "3.9.13"
  }
 },
 "nbformat": 4,
 "nbformat_minor": 5
}
