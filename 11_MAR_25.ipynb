{
  "nbformat": 4,
  "nbformat_minor": 0,
  "metadata": {
    "colab": {
      "provenance": []
    },
    "kernelspec": {
      "name": "python3",
      "display_name": "Python 3"
    },
    "language_info": {
      "name": "python"
    }
  },
  "cells": [
    {
      "cell_type": "code",
      "execution_count": null,
      "metadata": {
        "id": "9IxBGAbh-Lx5"
      },
      "outputs": [],
      "source": []
    },
    {
      "cell_type": "code",
      "execution_count": 1,
      "metadata": {
        "id": "-srLCR8NOnAO"
      },
      "outputs": [],
      "source": [
        "%pip install -U -q \"google-generativeai>=0.7.2\""
      ]
    },
    {
      "cell_type": "code",
      "source": [],
      "metadata": {
        "id": "biLBhaGt-eiR"
      },
      "execution_count": null,
      "outputs": []
    },
    {
      "cell_type": "code",
      "source": [
        "import google.generativeai as genai\n",
        "from google.colab import userdata\n",
        "GOOGLE_API_KEY=userdata.get('GOOGLE_API_KEY')\n",
        "genai.configure(api_key=GOOGLE_API_KEY)\n"
      ],
      "metadata": {
        "id": "Pc880_XOO6Lx"
      },
      "execution_count": 2,
      "outputs": []
    },
    {
      "cell_type": "code",
      "source": [
        "import google.generativeai as genai\n",
        "from google.colab import userdata\n",
        "\n",
        "# Get the API key and remove any leading/trailing whitespace or newline characters\n",
        "GOOGLE_API_KEY = userdata.get('GOOGLE_API_KEY').strip()\n",
        "\n",
        "genai.configure(api_key=GOOGLE_API_KEY)\n",
        "\n",
        "import PIL.Image\n",
        "\n",
        "img = PIL.Image.open(\"/content/Image1.jpg\")\n",
        "img\n",
        "\n",
        "model = genai.GenerativeModel('gemini-1.5-flash')\n",
        "response = model.generate_content([\"Write a short ,engaging blog post based on the picture.It should include a description of the meal in the photo and talk about my journey meal prepping.\", img], stream=True)\n",
        "response.resolve()"
      ],
      "metadata": {
        "id": "YbpzNhQ7C8gB"
      },
      "execution_count": 13,
      "outputs": []
    },
    {
      "cell_type": "code",
      "source": [
        "import PIL.Image\n",
        "img=PIL.Image.open(\"/content/Image1.jpg\")\n",
        "img\n",
        "model=genai.GenerativeModel('gemini-1.5-flash')\n",
        "response=model.generate_content([\"Write a short ,engaging blog post based on the picture.It should include a description of the meal in the photo and talk about my journey meal prepping.\",img],stream=True)\n",
        "response.resolve()\n"
      ],
      "metadata": {
        "id": "PIavzSFb-gqx"
      },
      "execution_count": 14,
      "outputs": []
    },
    {
      "cell_type": "code",
      "source": [
        "response=model.generate_content([\"Write a short ,engaging blog post based on the picture.It should include a description of the meal in the photo and talk about my journey meal prepping.\",img])\n",
        "print(response.text)"
      ],
      "metadata": {
        "colab": {
          "base_uri": "https://localhost:8080/",
          "height": 419
        },
        "id": "Ezdu4L8oA-zN",
        "outputId": "69329c85-52f6-4ee4-dc4c-3448ebcc8818"
      },
      "execution_count": 16,
      "outputs": [
        {
          "output_type": "stream",
          "name": "stdout",
          "text": [
            "Here's a blog post based on the image:\n",
            "\n",
            "## My Meal Prep Journey: From Chaos to Colorful Containers!\n",
            "\n",
            "Let's be honest, adulting is hard.  And finding time to cook healthy, delicious meals consistently?  Feels almost impossible sometimes.  That's why I dove headfirst into the world of meal prepping – and let me tell you, it's been a game-changer.\n",
            "\n",
            "The picture above shows the fruits (or should I say, *veggies*!) of my labor this week: two perfectly portioned containers of teriyaki chicken and veggies over rice.  Each one is a vibrant mix of tender chicken, bright orange carrots, crisp broccoli florets, and fluffy white rice. It's the perfect balance of savory and healthy, and honestly, it looks pretty darn good, too!\n",
            "\n",
            "My journey into meal prepping wasn't exactly smooth sailing.  In the beginning, it was all a bit overwhelming. I'd spend hours in the kitchen, only to end up with a fridge full of sad, wilting leftovers.  I even tried a few recipes that ended up tasting like disappointment.  \n",
            "\n",
            "But I persevered! I learned a few key things along the way:\n",
            "\n",
            "* **Keep it simple:**  Don't try to make ten different dishes your first time. Stick to one or two easy recipes that you know you'll enjoy. This teriyaki chicken was a winner!\n",
            "* **Prep your ingredients:** Chopping veggies and measuring spices ahead of time saves SO much time during the actual cooking process.\n",
            "* **Invest in good containers:**  Airtight, microwave-safe containers are your best friend.  They keep your meals fresh and make reheating a breeze.\n",
            "\n",
            "The payoff?  No more frantic weekday evenings spent staring into the fridge wondering what to eat. Instead, I have healthy, delicious, and ready-to-go meals waiting for me.  Plus, it saves me money in the long run, because I’m not constantly ordering takeout or grabbing expensive, less-healthy options.\n",
            "\n",
            "So, if you’re on the fence about meal prepping, just jump in!  Start small, be patient with yourself, and most importantly, have fun with it.  Your taste buds (and your waistline) will thank you.\n",
            "\n",
            "What are your favorite meal prep recipes? Share them in the comments below!\n",
            "\n"
          ]
        }
      ]
    },
    {
      "cell_type": "code",
      "source": [],
      "metadata": {
        "id": "PDYCsn1kCtqt"
      },
      "execution_count": null,
      "outputs": []
    }
  ]
}