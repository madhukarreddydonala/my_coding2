{
 "cells": [
  {
   "cell_type": "code",
   "execution_count": null,
   "id": "f66d69ae-f640-4f8f-a3ba-29c51d2b91a7",
   "metadata": {},
   "outputs": [],
   "source": []
  }
 ],
 "metadata": {
  "kernelspec": {
   "display_name": "",
   "name": ""
  },
  "language_info": {
   "name": ""
  }
 },
 "nbformat": 4,
 "nbformat_minor": 5
}
