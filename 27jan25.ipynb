{
 "cells": [
  {
   "cell_type": "code",
   "execution_count": 1,
   "id": "78bc9c36-b6f9-4824-877b-951b115a81ca",
   "metadata": {},
   "outputs": [],
   "source": [
    "import pandas as pd\n",
    "import matplotlib.pyplot as plt\n",
    "import numpy as np "
   ]
  },
  {
   "cell_type": "code",
   "execution_count": 2,
   "id": "8a4e20d7-5469-4be6-b8d0-a7ea08891902",
   "metadata": {},
   "outputs": [],
   "source": [
    "df =pd.read_csv('tripadvisor_hotel_reviews.csv')"
   ]
  },
  {
   "cell_type": "code",
   "execution_count": 3,
   "id": "3fe94041-edb0-440c-bd03-29a6d1636bc1",
   "metadata": {},
   "outputs": [
    {
     "data": {
      "text/html": [
       "<div>\n",
       "<style scoped>\n",
       "    .dataframe tbody tr th:only-of-type {\n",
       "        vertical-align: middle;\n",
       "    }\n",
       "\n",
       "    .dataframe tbody tr th {\n",
       "        vertical-align: top;\n",
       "    }\n",
       "\n",
       "    .dataframe thead th {\n",
       "        text-align: right;\n",
       "    }\n",
       "</style>\n",
       "<table border=\"1\" class=\"dataframe\">\n",
       "  <thead>\n",
       "    <tr style=\"text-align: right;\">\n",
       "      <th></th>\n",
       "      <th>Review</th>\n",
       "      <th>Rating</th>\n",
       "    </tr>\n",
       "  </thead>\n",
       "  <tbody>\n",
       "    <tr>\n",
       "      <th>0</th>\n",
       "      <td>nice hotel expensive parking got good deal sta...</td>\n",
       "      <td>4</td>\n",
       "    </tr>\n",
       "    <tr>\n",
       "      <th>1</th>\n",
       "      <td>ok nothing special charge diamond member hilto...</td>\n",
       "      <td>2</td>\n",
       "    </tr>\n",
       "    <tr>\n",
       "      <th>2</th>\n",
       "      <td>nice rooms not 4* experience hotel monaco seat...</td>\n",
       "      <td>3</td>\n",
       "    </tr>\n",
       "    <tr>\n",
       "      <th>3</th>\n",
       "      <td>unique, great stay, wonderful time hotel monac...</td>\n",
       "      <td>5</td>\n",
       "    </tr>\n",
       "    <tr>\n",
       "      <th>4</th>\n",
       "      <td>great stay great stay, went seahawk game aweso...</td>\n",
       "      <td>5</td>\n",
       "    </tr>\n",
       "  </tbody>\n",
       "</table>\n",
       "</div>"
      ],
      "text/plain": [
       "                                              Review  Rating\n",
       "0  nice hotel expensive parking got good deal sta...       4\n",
       "1  ok nothing special charge diamond member hilto...       2\n",
       "2  nice rooms not 4* experience hotel monaco seat...       3\n",
       "3  unique, great stay, wonderful time hotel monac...       5\n",
       "4  great stay great stay, went seahawk game aweso...       5"
      ]
     },
     "execution_count": 3,
     "metadata": {},
     "output_type": "execute_result"
    }
   ],
   "source": [
    "df.head()"
   ]
  },
  {
   "cell_type": "code",
   "execution_count": 4,
   "id": "21f1c821-3157-4b3d-8b1f-479993f49d4b",
   "metadata": {},
   "outputs": [
    {
     "data": {
      "text/plain": [
       "<bound method DataFrame.info of                                                   Review  Rating\n",
       "0      nice hotel expensive parking got good deal sta...       4\n",
       "1      ok nothing special charge diamond member hilto...       2\n",
       "2      nice rooms not 4* experience hotel monaco seat...       3\n",
       "3      unique, great stay, wonderful time hotel monac...       5\n",
       "4      great stay great stay, went seahawk game aweso...       5\n",
       "...                                                  ...     ...\n",
       "20486  best kept secret 3rd time staying charm, not 5...       5\n",
       "20487  great location price view hotel great quick pl...       4\n",
       "20488  ok just looks nice modern outside, desk staff ...       2\n",
       "20489  hotel theft ruined vacation hotel opened sept ...       1\n",
       "20490  people talking, ca n't believe excellent ratin...       2\n",
       "\n",
       "[20491 rows x 2 columns]>"
      ]
     },
     "execution_count": 4,
     "metadata": {},
     "output_type": "execute_result"
    }
   ],
   "source": [
    "df.info"
   ]
  },
  {
   "cell_type": "code",
   "execution_count": 5,
   "id": "604c9bad-e863-4dbc-a5ed-041a8f846703",
   "metadata": {},
   "outputs": [],
   "source": [
    "def ratings(rating):\n",
    "    if rating>3 and rating<=5:\n",
    "        return \"positive\"\n",
    "    if rating>0 and rating<=3:\n",
    "        return \"negative\"\n",
    "        "
   ]
  },
  {
   "cell_type": "code",
   "execution_count": 6,
   "id": "ac4aa841-a4cf-4c26-bbf5-bb4648f945f2",
   "metadata": {},
   "outputs": [],
   "source": [
    "df['Ratings']=df['Rating'].apply(ratings)"
   ]
  },
  {
   "cell_type": "code",
   "execution_count": 7,
   "id": "23f6d61e-7c1c-4ad7-8e8a-997957595878",
   "metadata": {},
   "outputs": [
    {
     "ename": "TypeError",
     "evalue": "object of type 'builtin_function_or_method' has no len()",
     "output_type": "error",
     "traceback": [
      "\u001b[1;31m---------------------------------------------------------------------------\u001b[0m",
      "\u001b[1;31mTypeError\u001b[0m                                 Traceback (most recent call last)",
      "Cell \u001b[1;32mIn[7], line 1\u001b[0m\n\u001b[1;32m----> 1\u001b[0m plt\u001b[38;5;241m.\u001b[39mpie(df[\u001b[38;5;124m'\u001b[39m\u001b[38;5;124mRating\u001b[39m\u001b[38;5;124m'\u001b[39m]\u001b[38;5;241m.\u001b[39mvalue_counts(),\n\u001b[0;32m      2\u001b[0m         labels\u001b[38;5;241m=\u001b[39mdf[\u001b[38;5;124m'\u001b[39m\u001b[38;5;124mRating\u001b[39m\u001b[38;5;124m'\u001b[39m]\u001b[38;5;241m.\u001b[39munique()\u001b[38;5;241m.\u001b[39mtolist,\n\u001b[0;32m      3\u001b[0m         autopct\u001b[38;5;241m=\u001b[39m\u001b[38;5;124m'\u001b[39m\u001b[38;5;132;01m%1.1f\u001b[39;00m\u001b[38;5;132;01m%%\u001b[39;00m\u001b[38;5;124m'\u001b[39m)\n\u001b[0;32m      4\u001b[0m plt\u001b[38;5;241m.\u001b[39mshow()\n",
      "File \u001b[1;32m~\\anaconda3\\Lib\\site-packages\\matplotlib\\pyplot.py:3762\u001b[0m, in \u001b[0;36mpie\u001b[1;34m(x, explode, labels, colors, autopct, pctdistance, shadow, labeldistance, startangle, radius, counterclock, wedgeprops, textprops, center, frame, rotatelabels, normalize, hatch, data)\u001b[0m\n\u001b[0;32m   3739\u001b[0m \u001b[38;5;129m@_copy_docstring_and_deprecators\u001b[39m(Axes\u001b[38;5;241m.\u001b[39mpie)\n\u001b[0;32m   3740\u001b[0m \u001b[38;5;28;01mdef\u001b[39;00m \u001b[38;5;21mpie\u001b[39m(\n\u001b[0;32m   3741\u001b[0m     x: ArrayLike,\n\u001b[1;32m   (...)\u001b[0m\n\u001b[0;32m   3760\u001b[0m     data\u001b[38;5;241m=\u001b[39m\u001b[38;5;28;01mNone\u001b[39;00m,\n\u001b[0;32m   3761\u001b[0m ) \u001b[38;5;241m-\u001b[39m\u001b[38;5;241m>\u001b[39m \u001b[38;5;28mtuple\u001b[39m[\u001b[38;5;28mlist\u001b[39m[Wedge], \u001b[38;5;28mlist\u001b[39m[Text]] \u001b[38;5;241m|\u001b[39m \u001b[38;5;28mtuple\u001b[39m[\u001b[38;5;28mlist\u001b[39m[Wedge], \u001b[38;5;28mlist\u001b[39m[Text], \u001b[38;5;28mlist\u001b[39m[Text]]:\n\u001b[1;32m-> 3762\u001b[0m     \u001b[38;5;28;01mreturn\u001b[39;00m gca()\u001b[38;5;241m.\u001b[39mpie(\n\u001b[0;32m   3763\u001b[0m         x,\n\u001b[0;32m   3764\u001b[0m         explode\u001b[38;5;241m=\u001b[39mexplode,\n\u001b[0;32m   3765\u001b[0m         labels\u001b[38;5;241m=\u001b[39mlabels,\n\u001b[0;32m   3766\u001b[0m         colors\u001b[38;5;241m=\u001b[39mcolors,\n\u001b[0;32m   3767\u001b[0m         autopct\u001b[38;5;241m=\u001b[39mautopct,\n\u001b[0;32m   3768\u001b[0m         pctdistance\u001b[38;5;241m=\u001b[39mpctdistance,\n\u001b[0;32m   3769\u001b[0m         shadow\u001b[38;5;241m=\u001b[39mshadow,\n\u001b[0;32m   3770\u001b[0m         labeldistance\u001b[38;5;241m=\u001b[39mlabeldistance,\n\u001b[0;32m   3771\u001b[0m         startangle\u001b[38;5;241m=\u001b[39mstartangle,\n\u001b[0;32m   3772\u001b[0m         radius\u001b[38;5;241m=\u001b[39mradius,\n\u001b[0;32m   3773\u001b[0m         counterclock\u001b[38;5;241m=\u001b[39mcounterclock,\n\u001b[0;32m   3774\u001b[0m         wedgeprops\u001b[38;5;241m=\u001b[39mwedgeprops,\n\u001b[0;32m   3775\u001b[0m         textprops\u001b[38;5;241m=\u001b[39mtextprops,\n\u001b[0;32m   3776\u001b[0m         center\u001b[38;5;241m=\u001b[39mcenter,\n\u001b[0;32m   3777\u001b[0m         frame\u001b[38;5;241m=\u001b[39mframe,\n\u001b[0;32m   3778\u001b[0m         rotatelabels\u001b[38;5;241m=\u001b[39mrotatelabels,\n\u001b[0;32m   3779\u001b[0m         normalize\u001b[38;5;241m=\u001b[39mnormalize,\n\u001b[0;32m   3780\u001b[0m         hatch\u001b[38;5;241m=\u001b[39mhatch,\n\u001b[0;32m   3781\u001b[0m         \u001b[38;5;241m*\u001b[39m\u001b[38;5;241m*\u001b[39m({\u001b[38;5;124m\"\u001b[39m\u001b[38;5;124mdata\u001b[39m\u001b[38;5;124m\"\u001b[39m: data} \u001b[38;5;28;01mif\u001b[39;00m data \u001b[38;5;129;01mis\u001b[39;00m \u001b[38;5;129;01mnot\u001b[39;00m \u001b[38;5;28;01mNone\u001b[39;00m \u001b[38;5;28;01melse\u001b[39;00m {}),\n\u001b[0;32m   3782\u001b[0m     )\n",
      "File \u001b[1;32m~\\anaconda3\\Lib\\site-packages\\matplotlib\\__init__.py:1473\u001b[0m, in \u001b[0;36m_preprocess_data.<locals>.inner\u001b[1;34m(ax, data, *args, **kwargs)\u001b[0m\n\u001b[0;32m   1470\u001b[0m \u001b[38;5;129m@functools\u001b[39m\u001b[38;5;241m.\u001b[39mwraps(func)\n\u001b[0;32m   1471\u001b[0m \u001b[38;5;28;01mdef\u001b[39;00m \u001b[38;5;21minner\u001b[39m(ax, \u001b[38;5;241m*\u001b[39margs, data\u001b[38;5;241m=\u001b[39m\u001b[38;5;28;01mNone\u001b[39;00m, \u001b[38;5;241m*\u001b[39m\u001b[38;5;241m*\u001b[39mkwargs):\n\u001b[0;32m   1472\u001b[0m     \u001b[38;5;28;01mif\u001b[39;00m data \u001b[38;5;129;01mis\u001b[39;00m \u001b[38;5;28;01mNone\u001b[39;00m:\n\u001b[1;32m-> 1473\u001b[0m         \u001b[38;5;28;01mreturn\u001b[39;00m func(\n\u001b[0;32m   1474\u001b[0m             ax,\n\u001b[0;32m   1475\u001b[0m             \u001b[38;5;241m*\u001b[39m\u001b[38;5;28mmap\u001b[39m(sanitize_sequence, args),\n\u001b[0;32m   1476\u001b[0m             \u001b[38;5;241m*\u001b[39m\u001b[38;5;241m*\u001b[39m{k: sanitize_sequence(v) \u001b[38;5;28;01mfor\u001b[39;00m k, v \u001b[38;5;129;01min\u001b[39;00m kwargs\u001b[38;5;241m.\u001b[39mitems()})\n\u001b[0;32m   1478\u001b[0m     bound \u001b[38;5;241m=\u001b[39m new_sig\u001b[38;5;241m.\u001b[39mbind(ax, \u001b[38;5;241m*\u001b[39margs, \u001b[38;5;241m*\u001b[39m\u001b[38;5;241m*\u001b[39mkwargs)\n\u001b[0;32m   1479\u001b[0m     auto_label \u001b[38;5;241m=\u001b[39m (bound\u001b[38;5;241m.\u001b[39marguments\u001b[38;5;241m.\u001b[39mget(label_namer)\n\u001b[0;32m   1480\u001b[0m                   \u001b[38;5;129;01mor\u001b[39;00m bound\u001b[38;5;241m.\u001b[39mkwargs\u001b[38;5;241m.\u001b[39mget(label_namer))\n",
      "File \u001b[1;32m~\\anaconda3\\Lib\\site-packages\\matplotlib\\axes\\_axes.py:3297\u001b[0m, in \u001b[0;36mAxes.pie\u001b[1;34m(self, x, explode, labels, colors, autopct, pctdistance, shadow, labeldistance, startangle, radius, counterclock, wedgeprops, textprops, center, frame, rotatelabels, normalize, hatch)\u001b[0m\n\u001b[0;32m   3295\u001b[0m \u001b[38;5;28;01mif\u001b[39;00m explode \u001b[38;5;129;01mis\u001b[39;00m \u001b[38;5;28;01mNone\u001b[39;00m:\n\u001b[0;32m   3296\u001b[0m     explode \u001b[38;5;241m=\u001b[39m [\u001b[38;5;241m0\u001b[39m] \u001b[38;5;241m*\u001b[39m \u001b[38;5;28mlen\u001b[39m(x)\n\u001b[1;32m-> 3297\u001b[0m \u001b[38;5;28;01mif\u001b[39;00m \u001b[38;5;28mlen\u001b[39m(x) \u001b[38;5;241m!=\u001b[39m \u001b[38;5;28mlen\u001b[39m(labels):\n\u001b[0;32m   3298\u001b[0m     \u001b[38;5;28;01mraise\u001b[39;00m \u001b[38;5;167;01mValueError\u001b[39;00m(\u001b[38;5;124m\"\u001b[39m\u001b[38;5;124m'\u001b[39m\u001b[38;5;124mlabel\u001b[39m\u001b[38;5;124m'\u001b[39m\u001b[38;5;124m must be of length \u001b[39m\u001b[38;5;124m'\u001b[39m\u001b[38;5;124mx\u001b[39m\u001b[38;5;124m'\u001b[39m\u001b[38;5;124m\"\u001b[39m)\n\u001b[0;32m   3299\u001b[0m \u001b[38;5;28;01mif\u001b[39;00m \u001b[38;5;28mlen\u001b[39m(x) \u001b[38;5;241m!=\u001b[39m \u001b[38;5;28mlen\u001b[39m(explode):\n",
      "\u001b[1;31mTypeError\u001b[0m: object of type 'builtin_function_or_method' has no len()"
     ]
    },
    {
     "data": {
      "image/png": "[encoded data removed]",
      "text/plain": [
       "<Figure size 640x480 with 1 Axes>"
      ]
     },
     "metadata": {},
     "output_type": "display_data"
    }
   ],
   "source": [
    "plt.pie(df['Rating'].value_counts(),\n",
    "        labels=df['Rating'].unique().tolist,\n",
    "        autopct='%1.1f%%')\n",
    "plt.show()"
   ]
  },
  {
   "cell_type": "code",
   "execution_count": null,
   "id": "766f1dbe-63b4-49d6-bd5f-7ef4d6f882d0",
   "metadata": {},
   "outputs": [],
   "source": [
    "import matplotlib.pyplot as plt\n",
    "\n",
    "# Assuming df is your DataFrame containing 'Rating' column\n",
    "\n",
    "# Get the counts of each unique rating\n",
    "rating_counts = df['Rating'].value_counts()\n",
    "\n",
    "# Get the unique ratings as labels\n",
    "rating_labels = df['Rating'].unique().tolist()\n",
    "\n",
    "# Plotting the pie chart\n",
    "plt.pie(rating_counts, labels=rating_labels, autopct='%1.1f%%')\n",
    "plt.show()\n"
   ]
  },
  {
   "cell_type": "code",
   "execution_count": null,
   "id": "bf8e5b68-acea-4afd-87a9-32d3958ba89d",
   "metadata": {},
   "outputs": [],
   "source": [
    "length = len(df['Review'][0])\n",
    "print(f'Length of a sample review:{length}')\n"
   ]
  },
  {
   "cell_type": "code",
   "execution_count": null,
   "id": "c4660b6d-0ff0-4382-a584-ab62163700f8",
   "metadata": {},
   "outputs": [],
   "source": [
    "df['Length'] = df['Review'].str.len()\n",
    "df.head()"
   ]
  },
  {
   "cell_type": "code",
   "execution_count": null,
   "id": "ba5f1e50-9577-4908-8798-3c2847393fd1",
   "metadata": {},
   "outputs": [],
   "source": [
    "word_count=df['Review'] [0].split()\n",
    "print(f'Word count in sample review:{len(word_count)}')\n"
   ]
  },
  {
   "cell_type": "code",
   "execution_count": null,
   "id": "24de1e59-e482-4df2-bb4e-086bd9978076",
   "metadata": {},
   "outputs": [],
   "source": [
    "def word_count(review):\n",
    "    review_list=review.split()\n",
    "    return len(review_list)"
   ]
  },
  {
   "cell_type": "code",
   "execution_count": null,
   "id": "80a63f49-8074-4686-87f5-8293502d9b07",
   "metadata": {},
   "outputs": [],
   "source": [
    "df['Word_count'] = df['Review'].apply(word_count)\n",
    "df.head()"
   ]
  },
  {
   "cell_type": "code",
   "execution_count": null,
   "id": "4d098001-be5f-4543-ab83-9e0f907d82ec",
   "metadata": {},
   "outputs": [],
   "source": []
  },
  {
   "cell_type": "code",
   "execution_count": null,
   "id": "75e63df0-36f3-4835-a31a-f892991a541b",
   "metadata": {},
   "outputs": [],
   "source": [
    "df['mean_word_length'] = df['Review'].map(lambda rev: np.mean([len(word) \n",
    "                                                               for word in rev.split()]))\n",
    "df.head()"
   ]
  },
  {
   "cell_type": "code",
   "execution_count": null,
   "id": "ae865067-9588-46b0-9bc8-69760cd4fa56",
   "metadata": {},
   "outputs": [],
   "source": []
  },
  {
   "cell_type": "code",
   "execution_count": null,
   "id": "9576f973-0c2b-4dc0-9947-b95260b61cd0",
   "metadata": {},
   "outputs": [],
   "source": [
    "import nltk\n",
    "nltk.download('punkt')\n",
    "\n",
    "from nltk import tokenize \n",
    "np.mean([len(sent) for sent in tokenize.sent_tokenize(df['Review'][0])])\n"
   ]
  },
  {
   "cell_type": "code",
   "execution_count": null,
   "id": "2561a563-3c52-459b-9d81-6d9e33df509b",
   "metadata": {},
   "outputs": [],
   "source": [
    "\n"
   ]
  },
  {
   "cell_type": "code",
   "execution_count": null,
   "id": "bcb4a0a8-b49c-4c94-85b0-33b52a788c32",
   "metadata": {},
   "outputs": [],
   "source": [
    "from nltk import tokenize\n",
    "import numpy as np\n",
    "\n",
    "# Tokenize sentences in English explicitly\n",
    "sentences = tokenize.sent_tokenize(df['Review'][0], language='english')\n",
    "mean_length = np.mean([len(sent) for sent in sentences])\n",
    "print(mean_length)\n"
   ]
  },
  {
   "cell_type": "code",
   "execution_count": null,
   "id": "f354bb2d-8386-492b-9e7f-1af9997aea51",
   "metadata": {},
   "outputs": [],
   "source": [
    "import nltk\n",
    "nltk.download('punkt')\n",
    "\n"
   ]
  },
  {
   "cell_type": "code",
   "execution_count": null,
   "id": "9db8e9e0-9c9a-49aa-b6a1-acd304af29f5",
   "metadata": {},
   "outputs": [],
   "source": [
    "import nltk\n",
    "nltk.download('punkt')\n"
   ]
  },
  {
   "cell_type": "code",
   "execution_count": null,
   "id": "efe4edc6-4f32-4ce7-ab3a-228fd85f665c",
   "metadata": {},
   "outputs": [],
   "source": [
    "import nltk.data\n",
    "print(nltk.data.find('tokenizers/punkt/english.pickle'))\n"
   ]
  },
  {
   "cell_type": "code",
   "execution_count": null,
   "id": "2b37d747-95ac-45ac-8b45-fbf4d2c557f2",
   "metadata": {},
   "outputs": [],
   "source": [
    "nltk.data.path.append('C:\\\\Users\\\\madhu\\\\nltk_data')\n"
   ]
  },
  {
   "cell_type": "code",
   "execution_count": null,
   "id": "79942c09-dcba-4248-8ae4-4ba128ff109e",
   "metadata": {},
   "outputs": [],
   "source": [
    "!pip install spacy\n",
    "!python -m spacy download en_core_web_sm\n"
   ]
  },
  {
   "cell_type": "code",
   "execution_count": null,
   "id": "e82d0e6f-4783-4dc7-bcbe-f8b3ecc3c261",
   "metadata": {},
   "outputs": [],
   "source": [
    "pip install --upgrade nltk\n"
   ]
  },
  {
   "cell_type": "code",
   "execution_count": null,
   "id": "db00f58a-3ca5-41ab-a286-a3d7c674e5e8",
   "metadata": {},
   "outputs": [],
   "source": [
    "features =df.columns.tolist()[2:]\n",
    "df=df.drop(features,axis=1)\n",
    "df.head()"
   ]
  },
  {
   "cell_type": "code",
   "execution_count": null,
   "id": "13581060-18ca-4cdc-89c7-ab373f58e67c",
   "metadata": {},
   "outputs": [],
   "source": [
    "df.info()\n"
   ]
  },
  {
   "cell_type": "code",
   "execution_count": null,
   "id": "aac57229-824a-4602-a76c-220ef5309b33",
   "metadata": {},
   "outputs": [],
   "source": [
    "import re\n",
    "from nltk.corpus import stopwords\n",
    "def clean(review):\n",
    "    review=review.lower()\n",
    "    review=re.sub('[^a-z A-Z 0-9-]+','',review)\n",
    "    review=\" \".join([word for word in review.split() if word not in stopwords.words('english')])\n",
    "    return review"
   ]
  },
  {
   "cell_type": "code",
   "execution_count": null,
   "id": "34a35950-91ee-429c-a628-897aefcdac53",
   "metadata": {},
   "outputs": [],
   "source": [
    "df ['Review'] =df['Review'].apply(clean)\n",
    "df.head()"
   ]
  },
  {
   "cell_type": "code",
   "execution_count": null,
   "id": "fc91c73e-b5b3-40e6-9294-f89d2b7a3a8f",
   "metadata": {},
   "outputs": [],
   "source": [
    "def corpus(text):\n",
    "    text_list=text.split()\n",
    "    return text_list\n",
    "    "
   ]
  },
  {
   "cell_type": "code",
   "execution_count": null,
   "id": "f73c1a60-7207-42c7-8248-4356d75cbdeb",
   "metadata": {},
   "outputs": [],
   "source": [
    "df['Review_lists'] =df['Review'].apply(corpus)\n",
    "df.head()"
   ]
  },
  {
   "cell_type": "code",
   "execution_count": null,
   "id": "b1cc4b55-92bd-47c4-92dc-4a72d1e79718",
   "metadata": {},
   "outputs": [],
   "source": [
    "from tqdm import trange\n",
    "corpus =[]\n",
    "for i in trange(df.shape[0],ncols=150,nrows=10,colour='green',smoothing=0.8):\n",
    "    corpus+=df['Review_lists'][i]\n",
    "len(corpus)"
   ]
  },
  {
   "cell_type": "code",
   "execution_count": null,
   "id": "4d3bcd60-8b79-4cbd-b653-62f963d3c7c4",
   "metadata": {},
   "outputs": [],
   "source": [
    "from collections import Counter \n",
    "mostCommon =Counter(corpus).most_common(10)\n",
    "mostCommon"
   ]
  },
  {
   "cell_type": "code",
   "execution_count": null,
   "id": "b722ef54-0814-4436-95a5-0d9ae5288a7a",
   "metadata": {},
   "outputs": [],
   "source": [
    "words=[]\n",
    "freq=[]\n",
    "for word,count in mostCommon[:3]:\n",
    "    words.append(word)\n",
    "    freq.append(count)"
   ]
  },
  {
   "cell_type": "code",
   "execution_count": null,
   "id": "7f90a7c0-c90b-4f02-ad19-1912a007e728",
   "metadata": {},
   "outputs": [],
   "source": [
    "print(words)\n",
    "print(freq)"
   ]
  },
  {
   "cell_type": "code",
   "execution_count": null,
   "id": "09e8f7f6-ac50-4e7f-81e8-685cd19fd4c9",
   "metadata": {},
   "outputs": [],
   "source": [
    "import seaborn as sns\n",
    "sns.barplot(x=freq,y=words)\n",
    "plt.title('Top 10 Moat Frequently Occuring Words')\n",
    "plt.show()"
   ]
  },
  {
   "cell_type": "markdown",
   "id": "62e43cad-1426-4d12-a651-73816cad7d8a",
   "metadata": {},
   "source": [
    "#28 jan 25"
   ]
  },
  {
   "cell_type": "markdown",
   "id": "12bc9809-0b3c-408f-8239-0d860fd95099",
   "metadata": {},
   "source": [
    "###cosine similaritys"
   ]
  },
  {
   "cell_type": "code",
   "execution_count": null,
   "id": "8b6d91cd-bfcc-4a46-9356-ebd689924368",
   "metadata": {},
   "outputs": [],
   "source": [
    "doc_trump=\"Mr.Trump became presidient after winning  the political election \n",
    "\n",
    "\n",
    "doc_election=\"President Trump says putin had no political interface is \n",
    "He says it was a witchhunt by political parties.\n",
    "He clamed President putin is a friend who had nothing to do with the \n",
    "\n",
    "doc_putin =\"Post elections,Vladimir Putin became President of Russia.\n",
    "President Putin had served as the Prime Minister earlier in his politi"
   ]
  },
  {
   "cell_type": "code",
   "execution_count": null,
   "id": "7770329f-4b41-4eb2-bf1e-42f87ae41ff8",
   "metadata": {},
   "outputs": [],
   "source": [
    "doc_trump=\"Mr. Trump became president after winning the political election. Through he lost the support of some republican friends, Trump is friends with President putin\"\n",
    "doc_election = \"President Trump says Putin had no polictical interference is the election outcome. He says it was a witchhunt by political parties.He claimed President Putin is a friend who had nothinng to do with the election\"\n",
    "doc_putin = \"Post elections, Vladimir Putin became President of Russia. president Putin had served as the Prime Minister earlier in his political career\"\n",
    "documents = [doc_trump, doc_election, doc_putin]"
   ]
  },
  {
   "cell_type": "code",
   "execution_count": null,
   "id": "c1900874-0126-47b8-a2e7-726580222fce",
   "metadata": {},
   "outputs": [],
   "source": [
    "documents"
   ]
  },
  {
   "cell_type": "code",
   "execution_count": null,
   "id": "011fe385-6b1c-4a73-99be-5d2fb2483945",
   "metadata": {},
   "outputs": [],
   "source": [
    "from sklearn.feature_extraction.text import CountVectorize\n",
    "import pandas as pd \n",
    "count_vect =CountVectorize(stop_words='english')\n",
    "sparese_matrix =count_vect.fit_transform(documents)\n",
    "doc_term_matrix =sparse_matrix.toden"
   ]
  },
  {
   "cell_type": "code",
   "execution_count": null,
   "id": "e61133dc-d209-4405-9cc9-9249959854ed",
   "metadata": {},
   "outputs": [],
   "source": [
    "from sklearn.metrics.pairwise import cosine_similary"
   ]
  },
  {
   "cell_type": "code",
   "execution_count": null,
   "id": "78829f7f-d8df-4fec-b236-259d72c4a5f0",
   "metadata": {},
   "outputs": [],
   "source": [
    "import numpy as np \n",
    "import matplotlib.pyplot as plt \n",
    "A=np.array([7,3])\n",
    "B=np.array([3,7])\n",
    "ax=plt.axes()\n",
    "ax.arrow(0.0,0.0,A[0],A[1],head_width=0.4,head_length=0.5)\n",
    "plt.annotate(f\"A({A[0]},{A[1]})\",xy=(A[0],A[1]),xytext=(A[0]+0/5,A[1]))\n",
    "ax.arrow(0.0,0.0,B[0],B[1],head_width=0.4,head_length=0.5)\n",
    "plt.annotate(f\"B({B[0]},{B[1]})\",xy=(B[0],B[1]),xytext=(B[0]+0/5,B[1]))\n",
    "plt.xlim(0,10)\n",
    "plt.ylim(0,10)\n",
    "plt.show()\n",
    "plt.close()\n",
    "cos_sim=np.dot(A,B)/(np.linalg.norm(A)*np.linalg.norm(B))\n",
    "print(f\"cosine similarity between A and B:{cos_sim}\")\n",
    "print(f\"Cosine Distance beteen A and B:{1-cos_sim}\")\n"
   ]
  },
  {
   "cell_type": "markdown",
   "id": "355b55bf-3127-4b42-b22f-2988171dacd4",
   "metadata": {},
   "source": [
    "### 29 jan 2025\n"
   ]
  },
  {
   "cell_type": "code",
   "execution_count": null,
   "id": "1540f377-ffd5-4977-94be-d1d11cc12998",
   "metadata": {},
   "outputs": [],
   "source": [
    "#text similarity"
   ]
  },
  {
   "cell_type": "code",
   "execution_count": null,
   "id": "f4c43ed6-e463-4007-a6f3-67840c7733f9",
   "metadata": {},
   "outputs": [],
   "source": [
    "import numpy as np\n",
    "from sklearn.feature_extraction.text import TfidfVectorizer\n",
    "from sklearn.metrics.pairwise import cosine_similarity\n"
   ]
  },
  {
   "cell_type": "code",
   "execution_count": null,
   "id": "f68e377e-7c78-4fbd-a67f-a04d72f73716",
   "metadata": {},
   "outputs": [],
   "source": [
    "responses=[\n",
    "    \"You can return an item within 7days of purchase.\",\n",
    "    \"Our return policy allows you to return items that are unopened and in their original condition.\",\n",
    "    \"We offer free shipping on order over $50\",\n",
    "    \"To track your order ,you can visit the 'Order Tracking' page and enter your order number.\",\n",
    "    \"Our customer \"]\n"
   ]
  },
  {
   "cell_type": "code",
   "execution_count": null,
   "id": "41638fec-63d6-4856-bd43-97060a0b9f39",
   "metadata": {},
   "outputs": [],
   "source": [
    "user_input =\"How can Itrack my order?\"\n",
    "vectorizer =TfidfVectorizer(stop_words='english')\n",
    "all_texts=responses+[user_input]\n"
   ]
  },
  {
   "cell_type": "code",
   "execution_count": null,
   "id": "f61df737-5751-4652-8e0b-5072c0a3c65a",
   "metadata": {},
   "outputs": [],
   "source": [
    "tfidf_matrix=vectorizer.fit_transform(all_texts)"
   ]
  },
  {
   "cell_type": "code",
   "execution_count": null,
   "id": "9243fb0f-9038-446d-8a72-6f2ccf2e71eb",
   "metadata": {},
   "outputs": [],
   "source": [
    "user_vector = tfidf_matrix[-1]\n",
    "response_vectors = tfidf_matrix[:-1]\n",
    "cosine_similarities = cosine_similarity(user_vector, response_vectors)"
   ]
  },
  {
   "cell_type": "code",
   "execution_count": null,
   "id": "e93f76ce-354c-4281-a7b6-8569f3a22ab7",
   "metadata": {},
   "outputs": [],
   "source": [
    "most_similar_idx=np.argmax(cosine_similarities )"
   ]
  },
  {
   "cell_type": "code",
   "execution_count": null,
   "id": "d2fa7cb7-a58a-463b-b2af-d466d679d00e",
   "metadata": {},
   "outputs": [],
   "source": [
    "print(f\"User Query:{user_input}\")\n",
    "print(f\"Most revelent reponse: {responses[most_similar_idx]}\")\n"
   ]
  },
  {
   "cell_type": "markdown",
   "id": "70c4adcb-d7d5-4e31-8f21-c251e67fe46e",
   "metadata": {},
   "source": [
    "### import all libraries\n"
   ]
  },
  {
   "cell_type": "code",
   "execution_count": null,
   "id": "229d5c5d-0820-4642-ba07-8f84e6b46615",
   "metadata": {},
   "outputs": [],
   "source": [
    "import io\n",
    "import random\n",
    "import string\n",
    "import warnings\n",
    "warnings.filterwarnings('ignore')\n",
    "import numpy as np\n",
    "from sklearn.feature_extraction.text import TfidfVectorizer\n",
    "from sklearn.metrics.pairwise import cosine_similarity\n",
    "from nltk.stem import WordNetLemmatizer"
   ]
  },
  {
   "cell_type": "code",
   "execution_count": null,
   "id": "a9ca8e35-7a83-44d8-8b4c-fa42e00702b0",
   "metadata": {},
   "outputs": [],
   "source": [
    "import nltk"
   ]
  },
  {
   "cell_type": "code",
   "execution_count": null,
   "id": "bf0be07e-e046-40aa-8763-4e4a4523e5fe",
   "metadata": {},
   "outputs": [],
   "source": [
    "import nltk\n",
    "nltk.download('punkt')"
   ]
  },
  {
   "cell_type": "code",
   "execution_count": null,
   "id": "427df578-b982-4f95-8418-fe0ce07f06cb",
   "metadata": {},
   "outputs": [],
   "source": [
    "nltk.download(\"popular\",quiet=True)\n",
    "nltk.download(\"punkt\")\n",
    "nltk.download(\"wordnet\")"
   ]
  },
  {
   "cell_type": "code",
   "execution_count": null,
   "id": "aec0812f-8174-4f79-a248-316d886bdd29",
   "metadata": {},
   "outputs": [],
   "source": [
    "import nltk\n",
    "\n",
    "nltk.download('punkt')"
   ]
  },
  {
   "cell_type": "code",
   "execution_count": null,
   "id": "28414cdf-63f1-4ac2-898d-ef2f22c47d70",
   "metadata": {},
   "outputs": [],
   "source": []
  },
  {
   "cell_type": "code",
   "execution_count": null,
   "id": "10e07ead-93f5-4c1c-95e1-9234ebd70452",
   "metadata": {},
   "outputs": [],
   "source": [
    "f=open('input.txt','r',errors='ignore')\n",
    "raw = f.read()\n",
    "raw = raw.lower()"
   ]
  },
  {
   "cell_type": "markdown",
   "id": "7160b66a-a0ae-4f3e-ade8-25a5f864159d",
   "metadata": {},
   "source": [
    "### 30 jan 25"
   ]
  },
  {
   "cell_type": "code",
   "execution_count": null,
   "id": "1f1702ba-f518-4ce4-80af-250cadddbaae",
   "metadata": {},
   "outputs": [],
   "source": [
    "import nltk\n",
    "sent_tokens=nltk.sent_tokenize(raw)\n",
    "word_tokens=nltk.word_tokenize(raw)"
   ]
  },
  {
   "cell_type": "code",
   "execution_count": null,
   "id": "892acc82-cdc6-4b93-abf0-99ec45814843",
   "metadata": {},
   "outputs": [],
   "source": [
    "lemmer=nltk.stem.WordNetLemmatizer()\n",
    "def LemTokens(tokens):\n",
    "    return [lemmer.lemmatize(token) for token in token"
   ]
  },
  {
   "cell_type": "code",
   "execution_count": null,
   "id": "e8e74859-f1da-4897-a8df-d13c5007fe13",
   "metadata": {},
   "outputs": [],
   "source": [
    "GREETING_INPUTS=(\"hello\",\"hi\",\"greetings\",\"what's up\",\"hey\",\\\"how are you?\")\n",
    "GREETING_RESPONSES=[\"hi\",\"hey\",\"hi there \",\"hello\",\\\n",
    "                    \"I am glad! You are talking to me \",\\\n",
    "                     \"I am fine! How about you?\"]\n",
    "def greeting(sentence):\n",
    "    for word in sentence.split():\n",
    "        if word.lower() in GREETINGS_INPUTS:\n",
    "            return random.choice(GREETING_RESPONSES)"
   ]
  },
  {
   "cell_type": "code",
   "execution_count": null,
   "id": "0fc522ea-ae3b-4340-ad2b-e60413b51c62",
   "metadata": {},
   "outputs": [],
   "source": [
    "def response(user_response):\n",
    "    robo_response=''\n",
    "    sent-tokens.append(user_response)\n",
    "    "
   ]
  },
  {
   "cell_type": "code",
   "execution_count": null,
   "id": "8793c740-2001-4973-96ec-c9e60a5c254f",
   "metadata": {},
   "outputs": [],
   "source": [
    "flag=True\n",
    "print(\"SABot:My  name is \")\n",
    "if(user_response=='thanks' or user_response=='thank you'):\n",
    "    if(user_response!='bye'):\n",
    "        if(user_response.lower()\n",
    "           if(user_response=='thanks' or user_response=='thankyou'):\n",
    "\n",
    "                      flage =False\n",
    "                      print(\"sabot:you are welcome..\")\n",
    "    else:\n",
    "        if(greeting(user_response)!=None):\n",
    "            print(\"SABOT :\"+greeting(user_response))\n",
    "            "
   ]
  },
  {
   "cell_type": "code",
   "execution_count": null,
   "id": "ed7eff7e-eb8c-4d1a-9914-eefd41145c94",
   "metadata": {},
   "outputs": [],
   "source": []
  }
 ],
 "metadata": {
  "kernelspec": {
   "display_name": "Python 3 (ipykernel)",
   "language": "python",
   "name": "python3"
  },
  "language_info": {
   "codemirror_mode": {
    "name": "ipython",
    "version": 3
   },
   "file_extension": ".py",
   "mimetype": "text/x-python",
   "name": "python",
   "nbconvert_exporter": "python",
   "pygments_lexer": "ipython3",
   "version": "3.12.7"
  }
 },
 "nbformat": 4,
 "nbformat_minor": 5
}
