{
 "cells": [
  {
   "cell_type": "code",
   "execution_count": 3,
   "id": "ce4193d2-a724-4814-b728-26ba0ef749b3",
   "metadata": {},
   "outputs": [
    {
     "name": "stdout",
     "output_type": "stream",
     "text": [
      "Requirement already satisfied: emot in c:\\users\\madhu\\anaconda3\\lib\\site-packages (3.1)\n"
     ]
    }
   ],
   "source": [
    "!pip install emot"
   ]
  },
  {
   "cell_type": "code",
   "execution_count": 13,
   "id": "91da38b1-9f23-406a-bca1-b40ba0fb93de",
   "metadata": {},
   "outputs": [],
   "source": [
    "text1=\"What are you saying  😂. I am  the boss 😎,and why are you so 😒\" "
   ]
  },
  {
   "cell_type": "code",
   "execution_count": 15,
   "id": "77c9e72f-311d-4fe8-a3f1-905a387ed4ec",
   "metadata": {},
   "outputs": [],
   "source": [
    "import re\n",
    "from emot.emo_unicode import UNICODE_EMOJI\n",
    "from emot.emo_unicode import EMOTICONS_EMO"
   ]
  },
  {
   "cell_type": "code",
   "execution_count": 17,
   "id": "268b7c3d-5ce3-42be-8ff9-b643df0fe4a7",
   "metadata": {},
   "outputs": [
    {
     "data": {
      "text/plain": [
       "'What are you saying  face_with_tears_of_joy. I am  the boss smiling_face_with_sunglasses,and why are you so unamused_face'"
      ]
     },
     "execution_count": 17,
     "metadata": {},
     "output_type": "execute_result"
    }
   ],
   "source": [
    "def converting_emojis(text):\n",
    "    for emot in UNICODE_EMOJI:\n",
    "        text=text.replace(emot,\"_\".join(UNICODE_EMOJI[emot].replace(\",\",\"\").replace(\":\",\"\").split()))\n",
    "    return text\n",
    "converting_emojis(text1)"
   ]
  },
  {
   "cell_type": "code",
   "execution_count": null,
   "id": "10c3970f-7812-46af-a85f-e05d80f7bcd6",
   "metadata": {},
   "outputs": [],
   "source": [
    "def emoji_removal(string):\n",
    "    emoji_unicodes=re.compiler"
   ]
  },
  {
   "cell_type": "code",
   "execution_count": null,
   "id": "5ec660b5-5409-4275-89a7-6d73c5ddded0",
   "metadata": {},
   "outputs": [],
   "source": []
  }
 ],
 "metadata": {
  "kernelspec": {
   "display_name": "Python 3 (ipykernel)",
   "language": "python",
   "name": "python3"
  },
  "language_info": {
   "codemirror_mode": {
    "name": "ipython",
    "version": 3
   },
   "file_extension": ".py",
   "mimetype": "text/x-python",
   "name": "python",
   "nbconvert_exporter": "python",
   "pygments_lexer": "ipython3",
   "version": "3.12.7"
  }
 },
 "nbformat": 4,
 "nbformat_minor": 5
}
