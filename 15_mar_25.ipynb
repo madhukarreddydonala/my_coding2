{
  "nbformat": 4,
  "nbformat_minor": 0,
  "metadata": {
    "colab": {
      "provenance": []
    },
    "kernelspec": {
      "name": "python3",
      "display_name": "Python 3"
    },
    "language_info": {
      "name": "python"
    }
  },
  "cells": [
    {
      "cell_type": "code",
      "execution_count": 1,
      "metadata": {
        "id": "qIult33TgEhL"
      },
      "outputs": [],
      "source": [
        "import google.generativeai as genai\n",
        "from google.colab import userdata\n",
        "GOOGLE_API_KEY=userdata.get('GOOGLE_API_KEY')\n",
        "genai.configure(api_key=GOOGLE_API_KEY)"
      ]
    },
    {
      "cell_type": "code",
      "source": [
        "pip install pyPDF2\n"
      ],
      "metadata": {
        "colab": {
          "base_uri": "https://localhost:8080/"
        },
        "id": "C1X8FMzBgGuj",
        "outputId": "09783ebd-c310-4435-bb16-61092edc5a7d"
      },
      "execution_count": 2,
      "outputs": [
        {
          "output_type": "stream",
          "name": "stdout",
          "text": [
            "Collecting pyPDF2\n",
            "  Downloading pypdf2-3.0.1-py3-none-any.whl.metadata (6.8 kB)\n",
            "Downloading pypdf2-3.0.1-py3-none-any.whl (232 kB)\n",
            "\u001b[?25l   \u001b[90m━━━━━━━━━━━━━━━━━━━━━━━━━━━━━━━━━━━━━━━━\u001b[0m \u001b[32m0.0/232.6 kB\u001b[0m \u001b[31m?\u001b[0m eta \u001b[36m-:--:--\u001b[0m\r\u001b[2K   \u001b[90m━━━━━━━━━━━━━━━━━━━━━━━━━━━━━━━━━━━━━━━━\u001b[0m \u001b[32m232.6/232.6 kB\u001b[0m \u001b[31m12.0 MB/s\u001b[0m eta \u001b[36m0:00:00\u001b[0m\n",
            "\u001b[?25hInstalling collected packages: pyPDF2\n",
            "Successfully installed pyPDF2-3.0.1\n"
          ]
        }
      ]
    },
    {
      "cell_type": "code",
      "source": [
        "import google.generativeai as genai\n",
        "from google.colab import userdata\n",
        "\n",
        "# Get the API key and strip any leading/trailing whitespace\n",
        "GOOGLE_API_KEY = userdata.get('GOOGLE_API_KEY').strip()\n",
        "genai.configure(api_key=GOOGLE_API_KEY)"
      ],
      "metadata": {
        "id": "VAsNMzOXk_8U"
      },
      "execution_count": 6,
      "outputs": []
    },
    {
      "cell_type": "code",
      "source": [
        "import PyPDF2\n",
        "def extract(pdf_path):\n",
        "  \"\"\"4extract text from a given health report\"\"\"\n",
        "  text = \"\"\n",
        "  with open(pdf_path, \"rb\") as file :\n",
        "\n",
        "    reader = PyPDF2.PdfReader(file)\n",
        "    for page in reader.pages:\n",
        "      text += page.extract_text()+ \"\\n\"\n",
        "  return text"
      ],
      "metadata": {
        "id": "3TPyLmtsgOHz"
      },
      "execution_count": 7,
      "outputs": []
    },
    {
      "cell_type": "code",
      "source": [
        "def extract_health(text):\n",
        "  \"\"\"Asks  gemini AI to extract \"\"\"\n",
        "  model=genai.GenerativeModel('gemini-1.5-flash')\n",
        "  prompt=f\"Extract key insight from the following health report:{text}\"\n",
        "  response= model.generate_content(prompt)\n",
        "  return response.text\n",
        "pdf_file=\"health_report.pdf\"\n",
        "extracted=extract(pdf_file)\n",
        "extracted_health=extract_health(extracted)\n",
        "print(extracted_health)"
      ],
      "metadata": {
        "colab": {
          "base_uri": "https://localhost:8080/",
          "height": 401
        },
        "id": "AlOECjgPhgwG",
        "outputId": "65349b59-574d-4037-a3aa-a447e607d6f1"
      },
      "execution_count": 8,
      "outputs": [
        {
          "output_type": "stream",
          "name": "stdout",
          "text": [
            "Mr. Kishan Goud's lab results show:\n",
            "\n",
            "* **Elevated ESR:**  A significantly elevated Erythrocyte Sedimentation Rate (ESR) of 26 mm/hr (1st hour) and 52 mm/hr (2nd hour),  well above the reference range (0-8 mm/hr), suggests the presence of inflammation in the body.\n",
            "\n",
            "* **Possible Typhoid Antibodies:**  Elevated titers for *Salmonella Typhi* \"O\" (1:160) and \"H\" (1:80) antigens, although interpretation requires clinical context and may indicate a past or present infection.  *Salmonella Paratyphi* AH and BH are within the reference range.\n",
            "\n",
            "* **Negative for Dengue and Malaria:** Tests for dengue NS1 antigen, IgG, IgM and malaria were all negative.\n",
            "\n",
            "* **Normal Complete Blood Count (CBC):**  Hemoglobin, RBC, WBC, Platelet count, and differential count were within normal limits.\n",
            "\n",
            "* **Normal HbA1c:**  HbA1c level of 5.4% falls within the normal range for non-diabetics, indicating good blood sugar control.\n",
            "\n",
            "* **Normal Creatinine and Blood Glucose:** Creatinine and random blood glucose levels are within the normal range.\n",
            "\n",
            "* **Normal Liver Function Tests:** Liver function tests (including bilirubin, alkaline phosphatase, SGOT, SGPT, total protein, and albumin) are all within normal limits.\n",
            "\n",
            "* **Slightly Low Serum Sodium:** Serum sodium (122 mmol/l) is slightly below the lower limit of the normal range (135-146 mmol/l).  Serum Potassium and Chloride are within normal limits.\n",
            "\n",
            "\n",
            "**In summary:** The most significant finding is the elevated ESR, indicating inflammation. The elevated *Salmonella Typhi* antibody titers warrant further investigation by the attending physician to determine the significance of the finding in the context of Mr. Kishan Goud's clinical presentation. The slightly low sodium level also should be investigated by the physician.  All other tests were unremarkable.\n",
            "\n"
          ]
        }
      ]
    },
    {
      "cell_type": "code",
      "source": [
        "def summerize(text):\n",
        "  \"\"\"summarize the extracted health report\"\"\"\n",
        "  model=genai.GenerativeModel('gemini-1.5-flash')\n",
        "  prompt=f\"Summarize the following health report:{text}\"\n",
        "  response= model.generate_content(prompt)\n",
        "  return response.text\n",
        "summerized=summerize(extracted_health)\n",
        "print(\"summary:\\n\",summerized)"
      ],
      "metadata": {
        "colab": {
          "base_uri": "https://localhost:8080/",
          "height": 89
        },
        "id": "3pIFr1MDkhUC",
        "outputId": "caf40b61-ab32-4ffa-8a5b-d2fd4cfe7acd"
      },
      "execution_count": 9,
      "outputs": [
        {
          "output_type": "stream",
          "name": "stdout",
          "text": [
            "summary:\n",
            " Mr. Kishan Goud's lab results show significant inflammation (elevated ESR), and positive typhoid antibodies (requiring clinical correlation to determine if it's active or past infection).  While he has slightly low sodium, other blood work, including a complete blood count, liver function tests, blood glucose, and tests for dengue and malaria, are all normal.  Further investigation is needed to determine the cause of the inflammation and low sodium.\n",
            "\n"
          ]
        }
      ]
    },
    {
      "cell_type": "code",
      "source": [
        "def detect_abnormal(text):\n",
        "\n",
        "  model=genai.GenerativeModel('gemini-1.5-flash')\n",
        "  prompt=f\"Analyze the lab test results in the  following health report:\\n\\n{text}\"\n",
        "  response= model.generate_content(prompt)\n",
        "  return response.text\n",
        "abnormal=detect_abnormal(extracted_health)\n",
        "print(\"abnormal:\\n\",abnormal)"
      ],
      "metadata": {
        "colab": {
          "base_uri": "https://localhost:8080/",
          "height": 592
        },
        "id": "tcYp-Mdfl9FO",
        "outputId": "9131c0b2-8bd7-4f7a-f874-38c1a49e57b3"
      },
      "execution_count": 11,
      "outputs": [
        {
          "output_type": "stream",
          "name": "stdout",
          "text": [
            "abnormal:\n",
            " The lab report for Mr. Kishan Goud reveals a complex picture requiring clinical correlation.  Here's a breakdown of the findings and their potential implications:\n",
            "\n",
            "**Key Findings and Interpretations:**\n",
            "\n",
            "* **Elevated ESR (26/52 mm/hr):** This is the most significant abnormality.  A markedly elevated ESR strongly suggests the presence of an inflammatory process somewhere in the body.  The cause is not identified by these tests alone and could be due to a wide range of conditions, including infection (potentially related to the typhoid antibodies), autoimmune disease, or malignancy.\n",
            "\n",
            "* **Elevated *Salmonella Typhi* Antibodies (O: 1:160, H: 1:80):**  These elevated antibody titers suggest past or present infection with *Salmonella Typhi*, the bacteria that causes typhoid fever.  However, the significance is unclear without considering Mr. Goud's symptoms and medical history.  A high titer doesn't necessarily mean active infection; it could represent past exposure or a resolved infection.  The negative results for *Salmonella Paratyphi* are important in differential diagnosis.\n",
            "\n",
            "* **Slightly Low Serum Sodium (122 mmol/l):** Hyponatremia (low sodium) can have various causes, including dehydration, kidney problems, hormonal imbalances (e.g., SIADH), or certain medications.  Further investigation is needed to determine the underlying cause.\n",
            "\n",
            "**Less Significant Findings:**\n",
            "\n",
            "* **Normal CBC:** The normal complete blood count rules out many infectious and hematological disorders.\n",
            "\n",
            "* **Normal HbA1c, Blood Glucose, Creatinine, Liver Function Tests:** These normal results largely exclude diabetes, kidney disease, and significant liver dysfunction.\n",
            "\n",
            "**Overall Assessment:**\n",
            "\n",
            "The elevated ESR and elevated *Salmonella Typhi* antibodies are the primary concerns.  The clinician needs to consider Mr. Goud's symptoms (fever, fatigue, abdominal pain, etc.) to determine if the elevated antibodies represent active typhoid fever or past infection.  Further investigations, possibly including a stool culture to confirm active typhoid, may be necessary.  The slightly low serum sodium also requires attention and may necessitate electrolyte panel review and further workup to determine the etiology.\n",
            "\n",
            "**Next Steps:**\n",
            "\n",
            "The physician should:\n",
            "\n",
            "* **Obtain a detailed clinical history:** This includes current symptoms, recent illnesses, travel history, and medication use.\n",
            "* **Perform a thorough physical examination:** This will help assess the extent of inflammation and any other relevant clinical signs.\n",
            "* **Consider further investigations:**  This may include a stool culture for *Salmonella Typhi*, repeat antibody titers, and tests to evaluate for other potential causes of inflammation and hyponatremia.\n",
            "\n",
            "\n",
            "In conclusion, this report highlights the importance of interpreting lab results in the context of the patient's clinical presentation.  While the elevated ESR and typhoid antibodies are concerning, they require further investigation to establish a definitive diagnosis and appropriate treatment.\n",
            "\n"
          ]
        }
      ]
    },
    {
      "cell_type": "code",
      "source": [
        "def explain(text):\n",
        "  model=genai.GenerativeModel('gemini-1.5-flash')\n",
        "  prompt=f\"Extract medical terms from the following health report:{text}\"\n",
        "  response= model.generate_content(prompt)\n",
        "  return response.text\n",
        "explaned=explain(extracted_health)\n",
        "print(\"explaned:\\n\",explaned)"
      ],
      "metadata": {
        "colab": {
          "base_uri": "https://localhost:8080/",
          "height": 607
        },
        "id": "7gnvabMVoket",
        "outputId": "36f32809-3ce9-48f4-fe50-e24820e443b0"
      },
      "execution_count": 12,
      "outputs": [
        {
          "output_type": "stream",
          "name": "stdout",
          "text": [
            "explaned:\n",
            " Here's a list of the medical terms extracted from the health report:\n",
            "\n",
            "* **Erythrocyte Sedimentation Rate (ESR)**\n",
            "* **Salmonella Typhi**\n",
            "* **Salmonella Paratyphi**\n",
            "* **Dengue NS1 antigen**\n",
            "* **IgG**\n",
            "* **IgM**\n",
            "* **Malaria**\n",
            "* **Complete Blood Count (CBC)**\n",
            "* **Hemoglobin**\n",
            "* **RBC (Red Blood Cell)**\n",
            "* **WBC (White Blood Cell)**\n",
            "* **Platelet count**\n",
            "* **differential count**\n",
            "* **HbA1c**\n",
            "* **Creatinine**\n",
            "* **Blood Glucose**\n",
            "* **Liver Function Tests**\n",
            "* **Bilirubin**\n",
            "* **Alkaline Phosphatase**\n",
            "* **SGOT (Aspartate Aminotransferase)**\n",
            "* **SGPT (Alanine Aminotransferase)**\n",
            "* **Total protein**\n",
            "* **Albumin**\n",
            "* **Serum Sodium**\n",
            "* **Serum Potassium**\n",
            "* **Serum Chloride**\n",
            "* **antigens**\n",
            "* **titers**\n",
            "\n",
            "\n",
            "\n"
          ]
        }
      ]
    },
    {
      "cell_type": "code",
      "source": [
        "def ask_gemini_report(text,question):\n",
        "  model=genai.GenerativeModel('gemini-1.5-flash')\n",
        "  prompt=f\"the following is  a the following health report:\\n\\n{text}\\n\\n Answer the following question based on hte report:\\n{question}\"\n",
        "\n",
        "  response= model.generate_content(prompt)\n",
        "  return response.text\n",
        "questioned=\"What is the patient diagnosis?\"\n",
        "answer=ask_gemini_report(extracted_health,questioned)\n",
        "print(\"answer:\\n\",answer)"
      ],
      "metadata": {
        "colab": {
          "base_uri": "https://localhost:8080/",
          "height": 89
        },
        "id": "3hGolzHrp4Aq",
        "outputId": "8355f904-f3d0-4fed-a9b1-486302ae25fa"
      },
      "execution_count": 13,
      "outputs": [
        {
          "output_type": "stream",
          "name": "stdout",
          "text": [
            "answer:\n",
            " The report does *not* provide a diagnosis.  It highlights several findings, most notably a significantly elevated ESR suggesting inflammation and elevated *Salmonella Typhi* antibodies which *may* indicate a past or present infection.  However, it explicitly states that further investigation and clinical context are needed to determine the significance of these findings and arrive at a diagnosis.  The slightly low sodium also requires further evaluation.\n",
            "\n"
          ]
        }
      ]
    },
    {
      "cell_type": "code",
      "source": [],
      "metadata": {
        "id": "aL76ZlKmsBO3"
      },
      "execution_count": null,
      "outputs": []
    }
  ]
}