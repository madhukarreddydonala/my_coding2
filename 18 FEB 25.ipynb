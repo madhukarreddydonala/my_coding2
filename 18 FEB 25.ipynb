{
 "cells": [
  {
   "cell_type": "markdown",
   "id": "e5c05cb8-7a3e-4a59-86a7-21f2efcd2e3c",
   "metadata": {},
   "source": [
    "webscrapping"
   ]
  },
  {
   "cell_type": "code",
   "execution_count": 8,
   "id": "05f300d6-8d20-46ec-bca6-9edc88f2ee07",
   "metadata": {},
   "outputs": [
    {
     "ename": "SyntaxError",
     "evalue": "expression cannot contain assignment, perhaps you meant \"==\"? (3069778490.py, line 7)",
     "output_type": "error",
     "traceback": [
      "\u001b[1;36m  Cell \u001b[1;32mIn[8], line 7\u001b[1;36m\u001b[0m\n\u001b[1;33m    quotes=soup.find_all(\"div\".class_=\"quote\")\u001b[0m\n\u001b[1;37m                         ^\u001b[0m\n\u001b[1;31mSyntaxError\u001b[0m\u001b[1;31m:\u001b[0m expression cannot contain assignment, perhaps you meant \"==\"?\n"
     ]
    }
   ],
   "source": [
    "import requests\n",
    "from bs4 import BeautifulSoup\n",
    "url=\"http://quotes.toscrape.com/\"\n",
    "response=requests.get(url)\n",
    "if response.status_code==200:\n",
    "    soup=BeautifulSoup(response.text,'html.parser')\n",
    "    quotes=soup.find_all(\"div\".class_=\"quote\")\n",
    "    for i,quote in enumerate(quotes[:]):\n",
    "        text=quote.find(\"span\",class_=\"text\").teext\n",
    "        tags=[tag.text for tag in quote.find_all(\"a\",class_=\"tag\")]\n",
    "    "
   ]
  },
  {
   "cell_type": "code",
   "execution_count": 10,
   "id": "9c0218e4-f065-418c-b9dc-2d57c314bd84",
   "metadata": {},
   "outputs": [
    {
     "name": "stdout",
     "output_type": "stream",
     "text": [
      "Quote 1: “The world as we have created it is a process of our thinking. It cannot be changed without changing our thinking.”\n",
      "Tags: change, deep-thoughts, thinking, world\n",
      "\n",
      "Quote 2: “It is our choices, Harry, that show what we truly are, far more than our abilities.”\n",
      "Tags: abilities, choices\n",
      "\n",
      "Quote 3: “There are only two ways to live your life. One is as though nothing is a miracle. The other is as though everything is a miracle.”\n",
      "Tags: inspirational, life, live, miracle, miracles\n",
      "\n",
      "Quote 4: “The person, be it gentleman or lady, who has not pleasure in a good novel, must be intolerably stupid.”\n",
      "Tags: aliteracy, books, classic, humor\n",
      "\n",
      "Quote 5: “Imperfection is beauty, madness is genius and it's better to be absolutely ridiculous than absolutely boring.”\n",
      "Tags: be-yourself, inspirational\n",
      "\n",
      "Quote 6: “Try not to become a man of success. Rather become a man of value.”\n",
      "Tags: adulthood, success, value\n",
      "\n",
      "Quote 7: “It is better to be hated for what you are than to be loved for what you are not.”\n",
      "Tags: life, love\n",
      "\n",
      "Quote 8: “I have not failed. I've just found 10,000 ways that won't work.”\n",
      "Tags: edison, failure, inspirational, paraphrased\n",
      "\n",
      "Quote 9: “A woman is like a tea bag; you never know how strong it is until it's in hot water.”\n",
      "Tags: misattributed-eleanor-roosevelt\n",
      "\n",
      "Quote 10: “A day without sunshine is like, you know, night.”\n",
      "Tags: humor, obvious, simile\n",
      "\n"
     ]
    }
   ],
   "source": [
    "import requests\n",
    "from bs4 import BeautifulSoup\n",
    "\n",
    "url = \"http://quotes.toscrape.com/\"\n",
    "response = requests.get(url)\n",
    "\n",
    "if response.status_code == 200:\n",
    "    soup = BeautifulSoup(response.text, 'html.parser')\n",
    "    quotes = soup.find_all(\"div\", class_=\"quote\")\n",
    "    \n",
    "    for i, quote in enumerate(quotes[:]):\n",
    "        text = quote.find(\"span\", class_=\"text\").text\n",
    "        tags = [tag.text for tag in quote.find_all(\"a\", class_=\"tag\")]\n",
    "        \n",
    "        print(f\"Quote {i+1}: {text}\")\n",
    "        print(f\"Tags: {', '.join(tags)}\\n\")\n"
   ]
  },
  {
   "cell_type": "code",
   "execution_count": null,
   "id": "a9327e84-455b-47b1-96da-e279255890ff",
   "metadata": {},
   "outputs": [],
   "source": [
    "import requests\n",
    "from bs4 import BeautifulSoup\n",
    "\n",
    "city= \"india/hyderabad\"\n",
    "url=f\"https://www.timeanddate.com/weather/{city}\"\n",
    "response = requests.get(url)\n",
    "soup=BeautifulSoup(respoanse.text,'html.parser')\n",
    "\n",
    "\n",
    "if response.status_code == 200:\n",
    "    soup = BeautifulSoup(response.text, 'html.parser')"
   ]
  },
  {
   "cell_type": "code",
   "execution_count": null,
   "id": "f5d41120-65ac-4937-9f51-3a09bfb3259d",
   "metadata": {},
   "outputs": [],
   "source": [
    "import requests\n",
    "from bs4 import BeautifulSoup\n",
    "search_url=\"https://www.amazon.in/s?k=iphone&crid=PQVCJSNISAH4&sprefix=iphone%2Caps%2C233&ref=nb_sb_noss_2s\"\n",
    "headers={\n",
    "    \"User-Agent\":\"Mozilla/5.0(windows NT 10.0;Win64;x64)ApplewebKit/537.36(KHTML,like"
   ]
  },
  {
   "cell_type": "code",
   "execution_count": 12,
   "id": "a5ac668f-cf60-4278-9fae-030f2bfc8342",
   "metadata": {},
   "outputs": [
    {
     "name": "stdout",
     "output_type": "stream",
     "text": [
      "Current Weather in Hyderabad:N/A|OpenWeather\n"
     ]
    }
   ],
   "source": [
    "city = \"india/hyderabad\"\n",
    "url = \"https://openweathermap.org/{city}\"\n",
    "response = requests.get(url)\n",
    "soup = BeautifulSoup(response.text,'html.parser')\n",
    "city = \"india/hyderabad\"\n",
    "url = \"https://openweathermap.org/{city}\"\n",
    "response = requests.get(url)\n",
    "soup = BeautifulSoup(response.text,'html.parser')\n",
    "\n",
    "temp = soup.find(\"div\",class_=\"h2\").text.strip() if soup.find(\"div\",class_=\"h2\") else \"N/A\"\n",
    "desc = soup.find(\"p\").text.strip() if soup.find(\"p\") else \"N/A\"\n",
    "\n",
    "print(f\"Current Weather in Hyderabad:{temp}|{desc}\")"
   ]
  },
  {
   "cell_type": "code",
   "execution_count": 14,
   "id": "da72acdb-8c86-4093-ae66-0264790fa043",
   "metadata": {},
   "outputs": [
    {
     "ename": "NameError",
     "evalue": "name 'headers' is not defined",
     "output_type": "error",
     "traceback": [
      "\u001b[1;31m---------------------------------------------------------------------------\u001b[0m",
      "\u001b[1;31mNameError\u001b[0m                                 Traceback (most recent call last)",
      "Cell \u001b[1;32mIn[14], line 4\u001b[0m\n\u001b[0;32m      2\u001b[0m \u001b[38;5;28;01mfrom\u001b[39;00m \u001b[38;5;21;01mbs4\u001b[39;00m \u001b[38;5;28;01mimport\u001b[39;00m BeautifulSoup\n\u001b[0;32m      3\u001b[0m url\u001b[38;5;241m=\u001b[39m\u001b[38;5;124m\"\u001b[39m\u001b[38;5;124mhttps://en.wikipedia.org/wiki/List_of_countries_and_dependencies_by_population\u001b[39m\u001b[38;5;124m\"\u001b[39m\n\u001b[1;32m----> 4\u001b[0m reponse\u001b[38;5;241m=\u001b[39mrequests\u001b[38;5;241m.\u001b[39mget(url,headers\u001b[38;5;241m=\u001b[39m\u001b[43mheaders\u001b[49m)\n\u001b[0;32m      5\u001b[0m soup\u001b[38;5;241m=\u001b[39mBeautifulSoup(response\u001b[38;5;241m.\u001b[39mtext,\u001b[38;5;124m\"\u001b[39m\u001b[38;5;124mhtml.parser\u001b[39m\u001b[38;5;124m\"\u001b[39m)\n",
      "\u001b[1;31mNameError\u001b[0m: name 'headers' is not defined"
     ]
    }
   ],
   "source": [
    "import requests\n",
    "from bs4 import BeautifulSoup\n",
    "url=\"https://en.wikipedia.org/wiki/List_of_countries_and_dependencies_by_population\"\n",
    "reponse=requests.get(url,headers=headers)\n",
    "soup=BeautifulSoup(response.text,\"html.parser\")\n",
    "table=soup.find(\"table\",class_=wikitable\")\n",
    "for row in table.find_all(\"tr\")[1:6]:\n",
    "    columns=row.find_all(\"td\")\n",
    "    country=columns[1].text.strip()\n",
    "    population=columns[2].text.strip()\n",
    "    print(f\"(country)"
   ]
  },
  {
   "cell_type": "code",
   "execution_count": 16,
   "id": "7dee0cd9-d867-4fe7-a66d-bba127ac532d",
   "metadata": {},
   "outputs": [
    {
     "name": "stdout",
     "output_type": "stream",
     "text": [
      "World: 8,119,000,000\n",
      "China: 1,408,280,000\n",
      "1,402,737,000: 17.2%\n",
      "United States: 340,110,988\n",
      "Indonesia: 282,477,584\n"
     ]
    }
   ],
   "source": [
    "import requests\n",
    "from bs4 import BeautifulSoup\n",
    "\n",
    "url = \"https://en.wikipedia.org/wiki/List_of_countries_and_dependencies_by_population\"\n",
    "response = requests.get(url)  # Removed 'headers' if not defined\n",
    "soup = BeautifulSoup(response.text, \"html.parser\")\n",
    "\n",
    "table = soup.find(\"table\", class_=\"wikitable\")\n",
    "for row in table.find_all(\"tr\")[1:6]:\n",
    "    columns = row.find_all(\"td\")\n",
    "    country = columns[1].text.strip()\n",
    "    population = columns[2].text.strip()\n",
    "    print(f\"{country}: {population}\")\n"
   ]
  },
  {
   "cell_type": "code",
   "execution_count": 18,
   "id": "9c7b66e9-67c8-46a0-a443-2e8d92f0a1b1",
   "metadata": {},
   "outputs": [],
   "source": [
    "from IPython.display import display,HTML"
   ]
  },
  {
   "cell_type": "code",
   "execution_count": null,
   "id": "5a93a871-be37-463e-957c-b0e727355ccb",
   "metadata": {},
   "outputs": [],
   "source": [
    "display(HTML(\"\"\"\n",
    "    <font color=\"blue\">this is a sample table</font>\n",
    "    <table>\n",
    "    <tr>\n",
    "        <th>Company </th>\n",
    "        <th>C\n",
    "    </tr>\n",
    "    <tr>\n",
    "        <td>Company </td>\n",
    "    </tr>\n",
    "    "
   ]
  }
 ],
 "metadata": {
  "kernelspec": {
   "display_name": "Python 3 (ipykernel)",
   "language": "python",
   "name": "python3"
  },
  "language_info": {
   "codemirror_mode": {
    "name": "ipython",
    "version": 3
   },
   "file_extension": ".py",
   "mimetype": "text/x-python",
   "name": "python",
   "nbconvert_exporter": "python",
   "pygments_lexer": "ipython3",
   "version": "3.12.7"
  }
 },
 "nbformat": 4,
 "nbformat_minor": 5
}
