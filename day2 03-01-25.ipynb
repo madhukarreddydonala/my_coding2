{
 "cells": [
  {
   "cell_type": "markdown",
   "id": "7924f221",
   "metadata": {},
   "source": [
    "# variables\n"
   ]
  },
  {
   "cell_type": "code",
   "execution_count": 1,
   "id": "f43b591a",
   "metadata": {},
   "outputs": [
    {
     "ename": "SyntaxError",
     "evalue": "invalid syntax (3149744134.py, line 1)",
     "output_type": "error",
     "traceback": [
      "\u001b[1;36m  File \u001b[1;32m\"C:\\Users\\madhu\\AppData\\Local\\Temp\\ipykernel_16760\\3149744134.py\"\u001b[1;36m, line \u001b[1;32m1\u001b[0m\n\u001b[1;33m    $kingt=90\u001b[0m\n\u001b[1;37m    ^\u001b[0m\n\u001b[1;31mSyntaxError\u001b[0m\u001b[1;31m:\u001b[0m invalid syntax\n"
     ]
    }
   ],
   "source": [
    "$kingt=90"
   ]
  },
  {
   "cell_type": "code",
   "execution_count": 2,
   "id": "69f852f8",
   "metadata": {},
   "outputs": [],
   "source": [
    "this=908"
   ]
  },
  {
   "cell_type": "code",
   "execution_count": 3,
   "id": "3e07b81f",
   "metadata": {},
   "outputs": [
    {
     "ename": "SyntaxError",
     "evalue": "invalid syntax (788301988.py, line 1)",
     "output_type": "error",
     "traceback": [
      "\u001b[1;36m  File \u001b[1;32m\"C:\\Users\\madhu\\AppData\\Local\\Temp\\ipykernel_16760\\788301988.py\"\u001b[1;36m, line \u001b[1;32m1\u001b[0m\n\u001b[1;33m    is =56\u001b[0m\n\u001b[1;37m    ^\u001b[0m\n\u001b[1;31mSyntaxError\u001b[0m\u001b[1;31m:\u001b[0m invalid syntax\n"
     ]
    }
   ],
   "source": [
    "is =56"
   ]
  },
  {
   "cell_type": "code",
   "execution_count": 5,
   "id": "368ab6b1",
   "metadata": {},
   "outputs": [],
   "source": [
    "hi9='devara'"
   ]
  },
  {
   "cell_type": "code",
   "execution_count": 7,
   "id": "6957483e",
   "metadata": {},
   "outputs": [
    {
     "name": "stdout",
     "output_type": "stream",
     "text": [
      "99\n"
     ]
    }
   ],
   "source": [
    "h=90\n",
    "h+=9\n",
    "print(h)"
   ]
  },
  {
   "cell_type": "code",
   "execution_count": 8,
   "id": "41ea0746",
   "metadata": {},
   "outputs": [
    {
     "name": "stdout",
     "output_type": "stream",
     "text": [
      "72\n"
     ]
    }
   ],
   "source": [
    "t=9\n",
    "t*=8\n",
    "print(t)"
   ]
  },
  {
   "cell_type": "code",
   "execution_count": 9,
   "id": "cafad93c",
   "metadata": {},
   "outputs": [
    {
     "name": "stdout",
     "output_type": "stream",
     "text": [
      "16 -2 0.7777777777777778\n"
     ]
    }
   ],
   "source": [
    "k=7\n",
    "p=9\n",
    "print(k+p,k-p,k/p)"
   ]
  },
  {
   "cell_type": "code",
   "execution_count": 11,
   "id": "67efa638",
   "metadata": {},
   "outputs": [
    {
     "name": "stdout",
     "output_type": "stream",
     "text": [
      "enter two values :4 5\n"
     ]
    }
   ],
   "source": [
    "m,n=input(\"enter two values :\").split()"
   ]
  },
  {
   "cell_type": "code",
   "execution_count": 12,
   "id": "50354bf3",
   "metadata": {},
   "outputs": [
    {
     "name": "stdout",
     "output_type": "stream",
     "text": [
      "False\n",
      "False\n"
     ]
    }
   ],
   "source": [
    "t=40\n",
    "y=50\n",
    "p=90\n",
    "print(t>=y)\n",
    "print(y>p)\n"
   ]
  },
  {
   "cell_type": "code",
   "execution_count": 13,
   "id": "83f31908",
   "metadata": {},
   "outputs": [
    {
     "name": "stdout",
     "output_type": "stream",
     "text": [
      "True\n"
     ]
    }
   ],
   "source": [
    "print(t>=y and p>y or p>t)"
   ]
  },
  {
   "cell_type": "code",
   "execution_count": 14,
   "id": "9fbc9049",
   "metadata": {},
   "outputs": [
    {
     "name": "stdout",
     "output_type": "stream",
     "text": [
      "True\n",
      "False\n"
     ]
    }
   ],
   "source": [
    "print(2==2)\n",
    "print(2!=2)"
   ]
  },
  {
   "cell_type": "code",
   "execution_count": null,
   "id": "c9dbba82",
   "metadata": {},
   "outputs": [],
   "source": []
  }
 ],
 "metadata": {
  "kernelspec": {
   "display_name": "Python 3 (ipykernel)",
   "language": "python",
   "name": "python3"
  },
  "language_info": {
   "codemirror_mode": {
    "name": "ipython",
    "version": 3
   },
   "file_extension": ".py",
   "mimetype": "text/x-python",
   "name": "python",
   "nbconvert_exporter": "python",
   "pygments_lexer": "ipython3",
   "version": "3.9.13"
  }
 },
 "nbformat": 4,
 "nbformat_minor": 5
}
